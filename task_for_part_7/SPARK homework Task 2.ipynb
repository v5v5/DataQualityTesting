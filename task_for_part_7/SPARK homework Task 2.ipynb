{
 "cells": [
  {
   "cell_type": "code",
   "execution_count": 1,
   "id": "accessible-nancy",
   "metadata": {},
   "outputs": [],
   "source": [
    "from pyspark.sql import SparkSession\n",
    "\n",
    "spark = SparkSession.builder.getOrCreate()"
   ]
  },
  {
   "cell_type": "code",
   "execution_count": 2,
   "id": "fatty-burton",
   "metadata": {},
   "outputs": [
    {
     "data": {
      "text/plain": [
       "[('spark.driver.extraJavaOptions',\n",
       "  '\"-Dio.netty.tryReflectionSetAccessible=true\"'),\n",
       " ('spark.app.id', 'local-1616047278864'),\n",
       " ('spark.executor.id', 'driver'),\n",
       " ('spark.app.startTime', '1616047277154'),\n",
       " ('spark.driver.host', 'fa6ae6620e7d'),\n",
       " ('spark.app.name', 'pyspark-shell'),\n",
       " ('spark.executor.extraJavaOptions',\n",
       "  '\"-Dio.netty.tryReflectionSetAccessible=true\"'),\n",
       " ('spark.rdd.compress', 'True'),\n",
       " ('spark.driver.port', '39539'),\n",
       " ('spark.serializer.objectStreamReset', '100'),\n",
       " ('spark.master', 'local[*]'),\n",
       " ('spark.submit.pyFiles', ''),\n",
       " ('spark.submit.deployMode', 'client'),\n",
       " ('spark.ui.showConsoleProgress', 'true')]"
      ]
     },
     "execution_count": 2,
     "metadata": {},
     "output_type": "execute_result"
    }
   ],
   "source": [
    "dir(spark.sparkContext)\n",
    "spark.sparkContext.getConf().getAll()"
   ]
  },
  {
   "cell_type": "code",
   "execution_count": 227,
   "id": "favorite-supplier",
   "metadata": {},
   "outputs": [
    {
     "name": "stdout",
     "output_type": "stream",
     "text": [
      "+----+-----+---+-----------+-------+-------------+-----------+--------------+-------------------+-------------------+--------------+---------------+--------+----------+--------------+------------+--------+--------+---------+-------+-----------------+------------+-------------+--------+---------+-------------------+----------------+--------------+-------------+-------------------+-------------+\n",
      "|YEAR|MONTH|DAY|DAY_OF_WEEK|AIRLINE|FLIGHT_NUMBER|TAIL_NUMBER|ORIGIN_AIRPORT|DESTINATION_AIRPORT|SCHEDULED_DEPARTURE|DEPARTURE_TIME|DEPARTURE_DELAY|TAXI_OUT|WHEELS_OFF|SCHEDULED_TIME|ELAPSED_TIME|AIR_TIME|DISTANCE|WHEELS_ON|TAXI_IN|SCHEDULED_ARRIVAL|ARRIVAL_TIME|ARRIVAL_DELAY|DIVERTED|CANCELLED|CANCELLATION_REASON|AIR_SYSTEM_DELAY|SECURITY_DELAY|AIRLINE_DELAY|LATE_AIRCRAFT_DELAY|WEATHER_DELAY|\n",
      "+----+-----+---+-----------+-------+-------------+-----------+--------------+-------------------+-------------------+--------------+---------------+--------+----------+--------------+------------+--------+--------+---------+-------+-----------------+------------+-------------+--------+---------+-------------------+----------------+--------------+-------------+-------------------+-------------+\n",
      "|2015|    1|  1|          4|     AS|           98|     N407AS|           ANC|                SEA|               0005|          2354|            -11|      21|      0015|           205|         194|     169|    1448|     0404|      4|             0430|        0408|          -22|       0|        0|               null|            null|          null|         null|               null|         null|\n",
      "|2015|    1|  1|          4|     AA|         2336|     N3KUAA|           LAX|                PBI|               0010|          0002|             -8|      12|      0014|           280|         279|     263|    2330|     0737|      4|             0750|        0741|           -9|       0|        0|               null|            null|          null|         null|               null|         null|\n",
      "|2015|    1|  1|          4|     US|          840|     N171US|           SFO|                CLT|               0020|          0018|             -2|      16|      0034|           286|         293|     266|    2296|     0800|     11|             0806|        0811|            5|       0|        0|               null|            null|          null|         null|               null|         null|\n",
      "+----+-----+---+-----------+-------+-------------+-----------+--------------+-------------------+-------------------+--------------+---------------+--------+----------+--------------+------------+--------+--------+---------+-------+-----------------+------------+-------------+--------+---------+-------------------+----------------+--------------+-------------+-------------------+-------------+\n",
      "only showing top 3 rows\n",
      "\n"
     ]
    }
   ],
   "source": [
    "# df_csv = spark.read.option('sep',',').option(\"header\",True).option(\"inferSchema\", True).csv(\"./flights.csv\")\n",
    "df_csv = spark.read.option('sep',',').option(\"header\",True).csv(\"./flights.csv\")\n",
    "df_csv.show(3)"
   ]
  },
  {
   "cell_type": "code",
   "execution_count": 10,
   "id": "tamil-respondent",
   "metadata": {},
   "outputs": [
    {
     "name": "stdout",
     "output_type": "stream",
     "text": [
      "+--------------+--------------+-------+-------------+--------------------------+---------------------------+-----------------------------+\n",
      "|departure_date|departure_time|airline|flight_number|daily_flight_serial_number|airline_daily_flights_count|time_since_previous_departure|\n",
      "+--------------+--------------+-------+-------------+--------------------------+---------------------------+-----------------------------+\n",
      "|    2015-01-01|      00:00:00|     AA|         1285|                        59|                       1473|                            0|\n",
      "|    2015-01-01|      00:00:00|     MQ|         3263|                       295|                        929|                            0|\n",
      "|    2015-01-01|      00:00:00|     OO|         5445|                        33|                       1487|                            0|\n",
      "+--------------+--------------+-------+-------------+--------------------------+---------------------------+-----------------------------+\n",
      "only showing top 3 rows\n",
      "\n"
     ]
    }
   ],
   "source": [
    "df_parquet = spark.read.parquet('golden_dataset/query1')\n",
    "df.show(3)"
   ]
  },
  {
   "cell_type": "code",
   "execution_count": 190,
   "id": "orange-commerce",
   "metadata": {},
   "outputs": [],
   "source": [
    "df = df_csv\n",
    "# dir(df)\n",
    "# for column in df.columns:\n",
    "#     print('Column Name : ', column)\n",
    "#     print(df[column])\n",
    "#     print(df[column].astype('string'))\n",
    "# values = df['DEPARTURE_TIME'].values\n",
    "# print(dir(values))\n",
    "# print(df.dtypes)\n",
    "# df['DEPARTURE_TIME']\n",
    "# print(dir(df))"
   ]
  },
  {
   "cell_type": "code",
   "execution_count": 13,
   "id": "threatened-range",
   "metadata": {},
   "outputs": [
    {
     "data": {
      "text/plain": [
       "DataFrame[summary: string, YEAR: string, MONTH: string, DAY: string, DAY_OF_WEEK: string, AIRLINE: string, FLIGHT_NUMBER: string, TAIL_NUMBER: string, ORIGIN_AIRPORT: string, DESTINATION_AIRPORT: string, SCHEDULED_DEPARTURE: string, DEPARTURE_TIME: string, DEPARTURE_DELAY: string, TAXI_OUT: string, WHEELS_OFF: string, SCHEDULED_TIME: string, ELAPSED_TIME: string, AIR_TIME: string, DISTANCE: string, WHEELS_ON: string, TAXI_IN: string, SCHEDULED_ARRIVAL: string, ARRIVAL_TIME: string, ARRIVAL_DELAY: string, DIVERTED: string, CANCELLED: string, CANCELLATION_REASON: string, AIR_SYSTEM_DELAY: string, SECURITY_DELAY: string, AIRLINE_DELAY: string, LATE_AIRCRAFT_DELAY: string, WEATHER_DELAY: string]"
      ]
     },
     "execution_count": 13,
     "metadata": {},
     "output_type": "execute_result"
    }
   ],
   "source": [
    "df.describe()"
   ]
  },
  {
   "cell_type": "code",
   "execution_count": 14,
   "id": "social-analyst",
   "metadata": {},
   "outputs": [
    {
     "name": "stdout",
     "output_type": "stream",
     "text": [
      "[('YEAR', 'int'), ('MONTH', 'int'), ('DAY', 'int'), ('DAY_OF_WEEK', 'int'), ('AIRLINE', 'string'), ('FLIGHT_NUMBER', 'int'), ('TAIL_NUMBER', 'string'), ('ORIGIN_AIRPORT', 'string'), ('DESTINATION_AIRPORT', 'string'), ('SCHEDULED_DEPARTURE', 'int'), ('DEPARTURE_TIME', 'int'), ('DEPARTURE_DELAY', 'int'), ('TAXI_OUT', 'int'), ('WHEELS_OFF', 'int'), ('SCHEDULED_TIME', 'int'), ('ELAPSED_TIME', 'int'), ('AIR_TIME', 'int'), ('DISTANCE', 'int'), ('WHEELS_ON', 'int'), ('TAXI_IN', 'int'), ('SCHEDULED_ARRIVAL', 'int'), ('ARRIVAL_TIME', 'int'), ('ARRIVAL_DELAY', 'int'), ('DIVERTED', 'int'), ('CANCELLED', 'int'), ('CANCELLATION_REASON', 'string'), ('AIR_SYSTEM_DELAY', 'int'), ('SECURITY_DELAY', 'int'), ('AIRLINE_DELAY', 'int'), ('LATE_AIRCRAFT_DELAY', 'int'), ('WEATHER_DELAY', 'int')]\n"
     ]
    }
   ],
   "source": [
    "print(df.dtypes)"
   ]
  },
  {
   "cell_type": "code",
   "execution_count": 15,
   "id": "extra-occupation",
   "metadata": {},
   "outputs": [
    {
     "name": "stdout",
     "output_type": "stream",
     "text": [
      "['AIRLINE', 'TAIL_NUMBER', 'ORIGIN_AIRPORT', 'DESTINATION_AIRPORT', 'CANCELLATION_REASON']\n"
     ]
    }
   ],
   "source": [
    "columns_string = [column[0] for column in df.dtypes if column[1] == 'string']\n",
    "print(columns_string)"
   ]
  },
  {
   "cell_type": "code",
   "execution_count": 80,
   "id": "extensive-operations",
   "metadata": {},
   "outputs": [
    {
     "name": "stdout",
     "output_type": "stream",
     "text": [
      "DataFrame[AIRLINE: string, TAIL_NUMBER: string, ORIGIN_AIRPORT: string, DESTINATION_AIRPORT: string, CANCELLATION_REASON: string]\n"
     ]
    }
   ],
   "source": [
    "# import pandas as pd\n",
    "# df1 = pd.DataFrame(df, columns= [column[0] for column in df.dtypes if column[1] == 'string'])\n",
    "df = df[[columns_string]]\n",
    "\n",
    "print(df)"
   ]
  },
  {
   "cell_type": "code",
   "execution_count": 191,
   "id": "characteristic-necessity",
   "metadata": {},
   "outputs": [
    {
     "name": "stdout",
     "output_type": "stream",
     "text": [
      "['YEAR', 'MONTH', 'DAY', 'DAY_OF_WEEK', 'FLIGHT_NUMBER', 'SCHEDULED_DEPARTURE', 'DEPARTURE_TIME', 'DEPARTURE_DELAY', 'TAXI_OUT', 'WHEELS_OFF', 'SCHEDULED_TIME', 'ELAPSED_TIME', 'AIR_TIME', 'DISTANCE', 'WHEELS_ON', 'TAXI_IN', 'SCHEDULED_ARRIVAL', 'ARRIVAL_TIME', 'ARRIVAL_DELAY', 'DIVERTED', 'CANCELLED', 'AIR_SYSTEM_DELAY', 'SECURITY_DELAY', 'AIRLINE_DELAY', 'LATE_AIRCRAFT_DELAY', 'WEATHER_DELAY']\n"
     ]
    },
    {
     "data": {
      "text/plain": [
       "[Row(YEAR=2015, MONTH=1, DAY=1, DAY_OF_WEEK=4, FLIGHT_NUMBER=98, SCHEDULED_DEPARTURE=5, DEPARTURE_TIME=2354, DEPARTURE_DELAY=-11, TAXI_OUT=21, WHEELS_OFF=15, SCHEDULED_TIME=205, ELAPSED_TIME=194, AIR_TIME=169, DISTANCE=1448, WHEELS_ON=404, TAXI_IN=4, SCHEDULED_ARRIVAL=430, ARRIVAL_TIME=408, ARRIVAL_DELAY=-22, DIVERTED=0, CANCELLED=0, AIR_SYSTEM_DELAY=None, SECURITY_DELAY=None, AIRLINE_DELAY=None, LATE_AIRCRAFT_DELAY=None, WEATHER_DELAY=None),\n",
       " Row(YEAR=2015, MONTH=1, DAY=1, DAY_OF_WEEK=4, FLIGHT_NUMBER=2336, SCHEDULED_DEPARTURE=10, DEPARTURE_TIME=2, DEPARTURE_DELAY=-8, TAXI_OUT=12, WHEELS_OFF=14, SCHEDULED_TIME=280, ELAPSED_TIME=279, AIR_TIME=263, DISTANCE=2330, WHEELS_ON=737, TAXI_IN=4, SCHEDULED_ARRIVAL=750, ARRIVAL_TIME=741, ARRIVAL_DELAY=-9, DIVERTED=0, CANCELLED=0, AIR_SYSTEM_DELAY=None, SECURITY_DELAY=None, AIRLINE_DELAY=None, LATE_AIRCRAFT_DELAY=None, WEATHER_DELAY=None)]"
      ]
     },
     "execution_count": 191,
     "metadata": {},
     "output_type": "execute_result"
    }
   ],
   "source": [
    "import pandas as pd\n",
    "columns_int = [column[0] for column in df.dtypes if column[1] == 'int']\n",
    "print(columns_int)\n",
    "df = df[[columns_int]]\n",
    "df.take(2)"
   ]
  },
  {
   "cell_type": "code",
   "execution_count": 224,
   "id": "revised-polish",
   "metadata": {},
   "outputs": [
    {
     "name": "stdout",
     "output_type": "stream",
     "text": [
      "+--------------+\n",
      "|ORIGIN_AIRPORT|\n",
      "+--------------+\n",
      "|           ANC|\n",
      "|           LAX|\n",
      "|           SFO|\n",
      "|           LAX|\n",
      "|           SEA|\n",
      "|           SFO|\n",
      "|           LAS|\n",
      "|           LAX|\n",
      "|           SFO|\n",
      "|           LAS|\n",
      "|           DEN|\n",
      "|           LAS|\n",
      "|           LAX|\n",
      "|           SLC|\n",
      "|           SEA|\n",
      "|           ANC|\n",
      "|           ANC|\n",
      "|           SFO|\n",
      "|           ANC|\n",
      "|           PDX|\n",
      "+--------------+\n",
      "only showing top 20 rows\n",
      "\n"
     ]
    }
   ],
   "source": [
    "# dir(df)\n",
    "df = df_csv\n",
    "df = df[['ORIGIN_AIRPORT']]\n",
    "df.show()"
   ]
  },
  {
   "cell_type": "code",
   "execution_count": 231,
   "id": "polyphonic-relevance",
   "metadata": {},
   "outputs": [
    {
     "name": "stdout",
     "output_type": "stream",
     "text": [
      "1\n",
      "0\n"
     ]
    }
   ],
   "source": [
    "# df.filter(df['YEAR'].isNull() | df['CANCELLATION_REASON'].isNull()).show()\n",
    "columns = [df[column[0]] for column in df.dtypes if column[1] == 'string']\n",
    "# columns = [df[column[0]] for column in df.dtypes if column[1] == 'int']\n",
    "print(len(columns))\n",
    "\n",
    "for i, c in enumerate(columns):\n",
    "    if i == 0:\n",
    "        columns_or = c.isNull()\n",
    "        continue\n",
    "    columns_or =  columns_or | c.isNull()\n",
    "\n",
    "# columns_or = reduce((lambda x, y: x | y), columns)\n",
    "    \n",
    "# df.filter(columns_or).show()\n",
    "print(df.filter(columns_or).count())"
   ]
  },
  {
   "cell_type": "code",
   "execution_count": 236,
   "id": "coordinate-association",
   "metadata": {},
   "outputs": [
    {
     "name": "stdout",
     "output_type": "stream",
     "text": [
      "YEAR \t 0\n",
      "MONTH \t 0\n",
      "DAY \t 0\n",
      "DAY_OF_WEEK \t 0\n",
      "AIRLINE \t 0\n",
      "FLIGHT_NUMBER \t 0\n",
      "TAIL_NUMBER \t 14721\n",
      "ORIGIN_AIRPORT \t 0\n",
      "DESTINATION_AIRPORT \t 0\n",
      "SCHEDULED_DEPARTURE \t 0\n",
      "DEPARTURE_TIME \t 86153\n",
      "DEPARTURE_DELAY \t 86153\n",
      "TAXI_OUT \t 89047\n",
      "WHEELS_OFF \t 89047\n",
      "SCHEDULED_TIME \t 6\n",
      "ELAPSED_TIME \t 105071\n",
      "AIR_TIME \t 105071\n",
      "DISTANCE \t 0\n",
      "WHEELS_ON \t 92513\n",
      "TAXI_IN \t 92513\n",
      "SCHEDULED_ARRIVAL \t 0\n",
      "ARRIVAL_TIME \t 92513\n",
      "ARRIVAL_DELAY \t 105071\n",
      "DIVERTED \t 0\n",
      "CANCELLED \t 0\n",
      "CANCELLATION_REASON \t 5729195\n",
      "AIR_SYSTEM_DELAY \t 4755640\n",
      "SECURITY_DELAY \t 4755640\n",
      "AIRLINE_DELAY \t 4755640\n",
      "LATE_AIRCRAFT_DELAY \t 4755640\n",
      "WEATHER_DELAY \t 4755640\n"
     ]
    }
   ],
   "source": [
    "df = spark.read.option('sep',',').option(\"header\",True).csv(\"./flights.csv\")\n",
    "columns = [column[0] for column in df.dtypes if column[1] == 'string']\n",
    "# df.filter(df['YEAR'].isNull() | df['CANCELLATION_REASON'].isNull()).show()\n",
    "for c in columns:\n",
    "    print(c, '\\t', df.filter(df[c].isNull()).count())"
   ]
  }
 ],
 "metadata": {
  "kernelspec": {
   "display_name": "Python 3",
   "language": "python",
   "name": "python3"
  },
  "language_info": {
   "codemirror_mode": {
    "name": "ipython",
    "version": 3
   },
   "file_extension": ".py",
   "mimetype": "text/x-python",
   "name": "python",
   "nbconvert_exporter": "python",
   "pygments_lexer": "ipython3",
   "version": "3.8.8"
  }
 },
 "nbformat": 4,
 "nbformat_minor": 5
}
